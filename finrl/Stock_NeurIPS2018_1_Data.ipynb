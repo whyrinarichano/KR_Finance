{
 "cells": [
  {
   "cell_type": "markdown",
   "metadata": {
    "id": "Sy8r7_g5WjAT"
   },
   "source": [
    "# Stock NeurIPS2018 Part 1. Data\n",
    "This series is a reproduction of paper *the process in the paper Practical Deep Reinforcement Learning Approach for Stock Trading*. \n",
    "\n",
    "This is the first part of the NeurIPS2018 series, introducing how to use FinRL to fetch and process data that we need for ML/RL trading.\n",
    "\n",
    "Other demos can be found at the repo of [FinRL-Tutorials]((https://github.com/AI4Finance-Foundation/FinRL-Tutorials))."
   ]
  },
  {
   "cell_type": "markdown",
   "metadata": {},
   "source": [
    "# tock NeurIPS2018 Part 1. 데이터\n",
    "이 시리즈는 Practical Deep Reinforcement Learning Approach for Stock Trading 논문에서 제시한 과정을 재현한 것입니다.\n",
    "\n",
    "NeurIPS2018 시리즈의 첫 번째 파트로, ML/RL 기반의 주식 트레이딩을 위해 필요한 데이터를 FinRL을 사용해 수집하고 전처리하는 방법을 소개합니다.\n",
    "\n",
    "기타 데모들은 FinRL-Tutorials 저장소에서 확인할 수 있습니다."
   ]
  },
  {
   "cell_type": "markdown",
   "metadata": {
    "id": "2uH1KXctgnoJ"
   },
   "source": [
    "# Part 1. Install Packages"
   ]
  },
  {
   "cell_type": "code",
   "execution_count": null,
   "metadata": {
    "id": "a2oD49e_N_05"
   },
   "outputs": [],
   "source": [
    "## install finrl library\n",
    "# !pip install git+https://github.com/AI4Finance-Foundation/FinRL.git"
   ]
  },
  {
   "cell_type": "code",
   "execution_count": 1,
   "metadata": {
    "id": "j37flV31OJGW"
   },
   "outputs": [],
   "source": [
    "import pandas as pd\n",
    "import yfinance as yf\n",
    "\n",
    "from finrl.meta.preprocessor.yahoodownloader import YahooDownloader\n",
    "from finrl.meta.preprocessor.preprocessors import FeatureEngineer, data_split\n",
    "from finrl import config_tickers\n",
    "from finrl.config import INDICATORS\n",
    "from finrl.config import *\n",
    "import itertools"
   ]
  },
  {
   "cell_type": "markdown",
   "metadata": {
    "id": "wxsN8i7tg07U"
   },
   "source": [
    "# Part 2. Fetch data"
   ]
  },
  {
   "cell_type": "markdown",
   "metadata": {
    "id": "fMNm9tCMXy8J"
   },
   "source": [
    "[yfinance](https://github.com/ranaroussi/yfinance) is an open-source library that provides APIs fetching historical data form Yahoo Finance. In FinRL, we have a class called [YahooDownloader](https://github.com/AI4Finance-Foundation/FinRL/blob/master/finrl/meta/preprocessor/yahoodownloader.py) that use yfinance to fetch data from Yahoo Finance."
   ]
  },
  {
   "cell_type": "markdown",
   "metadata": {
    "id": "CWVXUkzaZE8m"
   },
   "source": [
    "**OHLCV**: Data downloaded are in the form of OHLCV, corresponding to **open, high, low, close, volume,** respectively. OHLCV is important because they contain most of numerical information of a stock in time series. From OHLCV, traders can get further judgement and prediction like the momentum, people's interest, market trends, etc."
   ]
  },
  {
   "cell_type": "markdown",
   "metadata": {},
   "source": [
    "yfinance는 야후 파이낸스(Yahoo Finance)에서 과거 데이터를 가져올 수 있는 API를 제공하는 오픈소스 라이브러리입니다.\n",
    "FinRL에서는 YahooDownloader라는 클래스를 사용하여 yfinance를 통해 데이터를 가져옵니다.\n",
    "\n",
    "OHLCV: 다운로드된 데이터는 OHLCV 형식으로 제공되며, 각각 **시가(Open), 고가(High), 저가(Low), 종가(Close), 거래량(Volume)**을 의미합니다.\n",
    "OHLCV 데이터는 시계열에서 주식의 대부분의 수치 정보를 담고 있어 매우 중요합니다. 트레이더들은 OHLCV 데이터를 기반으로 모멘텀, 시장 관심도, 추세 등의 판단과 예측을 수행할 수 있습니다."
   ]
  },
  {
   "cell_type": "markdown",
   "metadata": {
    "id": "jRYlbdMpW9Np"
   },
   "source": [
    "## Data for a single ticker"
   ]
  },
  {
   "cell_type": "markdown",
   "metadata": {
    "id": "1wo6pCQYXDbz"
   },
   "source": [
    "Here we provide two ways to fetch data with single ticker, let's take Apple Inc. (AAPL) as an example."
   ]
  },
  {
   "cell_type": "markdown",
   "metadata": {
    "id": "yzVRe90WXLB1"
   },
   "source": [
    "### Using yfinance"
   ]
  },
  {
   "cell_type": "code",
   "execution_count": 2,
   "metadata": {
    "colab": {
     "base_uri": "https://localhost:8080/"
    },
    "id": "SSl6mVV7XNw6",
    "outputId": "460c06eb-c71d-4ebb-fe17-481295d70cff"
   },
   "outputs": [
    {
     "name": "stdout",
     "output_type": "stream",
     "text": [
      "YF.download() has changed argument auto_adjust default to True\n"
     ]
    },
    {
     "name": "stderr",
     "output_type": "stream",
     "text": [
      "[*********************100%***********************]  1 of 1 completed\n"
     ]
    }
   ],
   "source": [
    "TRAIN_START_DATE = '2020-01-01'\n",
    "TRADE_END_DATE = '2020-01-31'\n",
    "aapl_df_yf = yf.download(tickers = \"aapl\", start=TRAIN_START_DATE, end=TRADE_END_DATE)"
   ]
  },
  {
   "cell_type": "code",
   "execution_count": 3,
   "metadata": {
    "colab": {
     "base_uri": "https://localhost:8080/",
     "height": 238
    },
    "id": "Rjutz22rXrpR",
    "outputId": "62aadc8c-b854-403d-ac73-6cf86d53fa22"
   },
   "outputs": [
    {
     "data": {
      "text/html": [
       "<div>\n",
       "<style scoped>\n",
       "    .dataframe tbody tr th:only-of-type {\n",
       "        vertical-align: middle;\n",
       "    }\n",
       "\n",
       "    .dataframe tbody tr th {\n",
       "        vertical-align: top;\n",
       "    }\n",
       "\n",
       "    .dataframe thead tr th {\n",
       "        text-align: left;\n",
       "    }\n",
       "\n",
       "    .dataframe thead tr:last-of-type th {\n",
       "        text-align: right;\n",
       "    }\n",
       "</style>\n",
       "<table border=\"1\" class=\"dataframe\">\n",
       "  <thead>\n",
       "    <tr>\n",
       "      <th>Price</th>\n",
       "      <th>Close</th>\n",
       "      <th>High</th>\n",
       "      <th>Low</th>\n",
       "      <th>Open</th>\n",
       "      <th>Volume</th>\n",
       "    </tr>\n",
       "    <tr>\n",
       "      <th>Ticker</th>\n",
       "      <th>AAPL</th>\n",
       "      <th>AAPL</th>\n",
       "      <th>AAPL</th>\n",
       "      <th>AAPL</th>\n",
       "      <th>AAPL</th>\n",
       "    </tr>\n",
       "    <tr>\n",
       "      <th>Date</th>\n",
       "      <th></th>\n",
       "      <th></th>\n",
       "      <th></th>\n",
       "      <th></th>\n",
       "      <th></th>\n",
       "    </tr>\n",
       "  </thead>\n",
       "  <tbody>\n",
       "    <tr>\n",
       "      <th>2020-01-02</th>\n",
       "      <td>72.620827</td>\n",
       "      <td>72.681274</td>\n",
       "      <td>71.373203</td>\n",
       "      <td>71.627077</td>\n",
       "      <td>135480400</td>\n",
       "    </tr>\n",
       "    <tr>\n",
       "      <th>2020-01-03</th>\n",
       "      <td>71.914818</td>\n",
       "      <td>72.676447</td>\n",
       "      <td>71.689957</td>\n",
       "      <td>71.847118</td>\n",
       "      <td>146322800</td>\n",
       "    </tr>\n",
       "    <tr>\n",
       "      <th>2020-01-06</th>\n",
       "      <td>72.487862</td>\n",
       "      <td>72.526549</td>\n",
       "      <td>70.783263</td>\n",
       "      <td>71.034724</td>\n",
       "      <td>118387200</td>\n",
       "    </tr>\n",
       "    <tr>\n",
       "      <th>2020-01-07</th>\n",
       "      <td>72.146927</td>\n",
       "      <td>72.753808</td>\n",
       "      <td>71.926900</td>\n",
       "      <td>72.497514</td>\n",
       "      <td>108872000</td>\n",
       "    </tr>\n",
       "    <tr>\n",
       "      <th>2020-01-08</th>\n",
       "      <td>73.307541</td>\n",
       "      <td>73.609775</td>\n",
       "      <td>71.849563</td>\n",
       "      <td>71.849563</td>\n",
       "      <td>132079200</td>\n",
       "    </tr>\n",
       "  </tbody>\n",
       "</table>\n",
       "</div>"
      ],
      "text/plain": [
       "Price           Close       High        Low       Open     Volume\n",
       "Ticker           AAPL       AAPL       AAPL       AAPL       AAPL\n",
       "Date                                                             \n",
       "2020-01-02  72.620827  72.681274  71.373203  71.627077  135480400\n",
       "2020-01-03  71.914818  72.676447  71.689957  71.847118  146322800\n",
       "2020-01-06  72.487862  72.526549  70.783263  71.034724  118387200\n",
       "2020-01-07  72.146927  72.753808  71.926900  72.497514  108872000\n",
       "2020-01-08  73.307541  73.609775  71.849563  71.849563  132079200"
      ]
     },
     "execution_count": 3,
     "metadata": {},
     "output_type": "execute_result"
    }
   ],
   "source": [
    "aapl_df_yf.head()"
   ]
  },
  {
   "cell_type": "markdown",
   "metadata": {
    "id": "fHZLDmnsXOK0"
   },
   "source": [
    "### Using FinRL"
   ]
  },
  {
   "cell_type": "markdown",
   "metadata": {
    "id": "VFB77ohNbXCc"
   },
   "source": [
    "In FinRL's YahooDownloader, we modified the data frame to the form that convenient for further data processing process. We use adjusted close price instead of close price, and add a column representing the day of a week (0-4 corresponding to Monday-Friday)."
   ]
  },
  {
   "cell_type": "code",
   "execution_count": 4,
   "metadata": {
    "colab": {
     "base_uri": "https://localhost:8080/"
    },
    "id": "7ufDHvt4XBWT",
    "outputId": "41603042-4f14-4814-c569-305d85fa7f9d"
   },
   "outputs": [
    {
     "name": "stdout",
     "output_type": "stream",
     "text": [
      "YF deprecation warning: set proxy via new config function: yf.set_config(proxy=proxy)\n"
     ]
    },
    {
     "name": "stderr",
     "output_type": "stream",
     "text": [
      "[*********************100%***********************]  1 of 1 completed"
     ]
    },
    {
     "name": "stdout",
     "output_type": "stream",
     "text": [
      "Shape of DataFrame:  (146, 8)\n"
     ]
    },
    {
     "name": "stderr",
     "output_type": "stream",
     "text": [
      "\n"
     ]
    }
   ],
   "source": [
    "aapl_df_finrl = YahooDownloader(start_date = TRAIN_START_DATE,\n",
    "                                end_date = TRAIN_END_DATE,\n",
    "                                ticker_list = ['aapl']).fetch_data()"
   ]
  },
  {
   "cell_type": "code",
   "execution_count": 5,
   "metadata": {
    "colab": {
     "base_uri": "https://localhost:8080/",
     "height": 206
    },
    "id": "_TgEjXxhXtT_",
    "outputId": "a8e8a9e2-a1ea-472e-eddf-2227e6c901d8"
   },
   "outputs": [
    {
     "data": {
      "text/html": [
       "<div>\n",
       "<style scoped>\n",
       "    .dataframe tbody tr th:only-of-type {\n",
       "        vertical-align: middle;\n",
       "    }\n",
       "\n",
       "    .dataframe tbody tr th {\n",
       "        vertical-align: top;\n",
       "    }\n",
       "\n",
       "    .dataframe thead th {\n",
       "        text-align: right;\n",
       "    }\n",
       "</style>\n",
       "<table border=\"1\" class=\"dataframe\">\n",
       "  <thead>\n",
       "    <tr style=\"text-align: right;\">\n",
       "      <th>Price</th>\n",
       "      <th>date</th>\n",
       "      <th>close</th>\n",
       "      <th>high</th>\n",
       "      <th>low</th>\n",
       "      <th>open</th>\n",
       "      <th>volume</th>\n",
       "      <th>tic</th>\n",
       "      <th>day</th>\n",
       "    </tr>\n",
       "  </thead>\n",
       "  <tbody>\n",
       "    <tr>\n",
       "      <th>0</th>\n",
       "      <td>2020-01-02</td>\n",
       "      <td>72.620834</td>\n",
       "      <td>72.681281</td>\n",
       "      <td>71.373211</td>\n",
       "      <td>71.627084</td>\n",
       "      <td>135480400</td>\n",
       "      <td>aapl</td>\n",
       "      <td>3</td>\n",
       "    </tr>\n",
       "    <tr>\n",
       "      <th>1</th>\n",
       "      <td>2020-01-03</td>\n",
       "      <td>71.914810</td>\n",
       "      <td>72.676439</td>\n",
       "      <td>71.689950</td>\n",
       "      <td>71.847110</td>\n",
       "      <td>146322800</td>\n",
       "      <td>aapl</td>\n",
       "      <td>4</td>\n",
       "    </tr>\n",
       "    <tr>\n",
       "      <th>2</th>\n",
       "      <td>2020-01-06</td>\n",
       "      <td>72.487854</td>\n",
       "      <td>72.526541</td>\n",
       "      <td>70.783256</td>\n",
       "      <td>71.034717</td>\n",
       "      <td>118387200</td>\n",
       "      <td>aapl</td>\n",
       "      <td>0</td>\n",
       "    </tr>\n",
       "    <tr>\n",
       "      <th>3</th>\n",
       "      <td>2020-01-07</td>\n",
       "      <td>72.146942</td>\n",
       "      <td>72.753823</td>\n",
       "      <td>71.926915</td>\n",
       "      <td>72.497529</td>\n",
       "      <td>108872000</td>\n",
       "      <td>aapl</td>\n",
       "      <td>1</td>\n",
       "    </tr>\n",
       "    <tr>\n",
       "      <th>4</th>\n",
       "      <td>2020-01-08</td>\n",
       "      <td>73.307510</td>\n",
       "      <td>73.609745</td>\n",
       "      <td>71.849533</td>\n",
       "      <td>71.849533</td>\n",
       "      <td>132079200</td>\n",
       "      <td>aapl</td>\n",
       "      <td>2</td>\n",
       "    </tr>\n",
       "  </tbody>\n",
       "</table>\n",
       "</div>"
      ],
      "text/plain": [
       "Price        date      close       high        low       open     volume  \\\n",
       "0      2020-01-02  72.620834  72.681281  71.373211  71.627084  135480400   \n",
       "1      2020-01-03  71.914810  72.676439  71.689950  71.847110  146322800   \n",
       "2      2020-01-06  72.487854  72.526541  70.783256  71.034717  118387200   \n",
       "3      2020-01-07  72.146942  72.753823  71.926915  72.497529  108872000   \n",
       "4      2020-01-08  73.307510  73.609745  71.849533  71.849533  132079200   \n",
       "\n",
       "Price   tic  day  \n",
       "0      aapl    3  \n",
       "1      aapl    4  \n",
       "2      aapl    0  \n",
       "3      aapl    1  \n",
       "4      aapl    2  "
      ]
     },
     "execution_count": 5,
     "metadata": {},
     "output_type": "execute_result"
    }
   ],
   "source": [
    "aapl_df_finrl.head()"
   ]
  },
  {
   "cell_type": "markdown",
   "metadata": {
    "id": "9kcOE5nbic6R"
   },
   "source": [
    "## Data for the chosen tickers"
   ]
  },
  {
   "cell_type": "code",
   "execution_count": 6,
   "metadata": {
    "colab": {
     "base_uri": "https://localhost:8080/"
    },
    "id": "FKBjtAo2uIq5",
    "outputId": "927f682a-9cc3-4c11-c3f1-094ae811af6b"
   },
   "outputs": [
    {
     "data": {
      "text/plain": [
       "['AXP',\n",
       " 'AMGN',\n",
       " 'AAPL',\n",
       " 'BA',\n",
       " 'CAT',\n",
       " 'CSCO',\n",
       " 'CVX',\n",
       " 'GS',\n",
       " 'HD',\n",
       " 'HON',\n",
       " 'IBM',\n",
       " 'INTC',\n",
       " 'JNJ',\n",
       " 'KO',\n",
       " 'JPM',\n",
       " 'MCD',\n",
       " 'MMM',\n",
       " 'MRK',\n",
       " 'MSFT',\n",
       " 'NKE',\n",
       " 'PG',\n",
       " 'TRV',\n",
       " 'UNH',\n",
       " 'CRM',\n",
       " 'VZ',\n",
       " 'V',\n",
       " 'WBA',\n",
       " 'WMT',\n",
       " 'DIS',\n",
       " 'DOW']"
      ]
     },
     "execution_count": 6,
     "metadata": {},
     "output_type": "execute_result"
    }
   ],
   "source": [
    "config_tickers.DOW_30_TICKER"
   ]
  },
  {
   "cell_type": "code",
   "execution_count": 7,
   "metadata": {
    "id": "9xTPG4Fhc-zL"
   },
   "outputs": [],
   "source": [
    "TRAIN_START_DATE = '2009-01-01'\n",
    "TRAIN_END_DATE = '2020-01-01'\n",
    "\n",
    "TRADE_START_DATE = '2020-01-01'\n",
    "TRADE_END_DATE = '2025-05-16'"
   ]
  },
  {
   "cell_type": "code",
   "execution_count": 8,
   "metadata": {
    "colab": {
     "base_uri": "https://localhost:8080/"
    },
    "id": "9LblMI8CO0F3",
    "outputId": "7be76385-50eb-4e8d-f2e5-1795d77b70ba"
   },
   "outputs": [
    {
     "name": "stderr",
     "output_type": "stream",
     "text": [
      "[*********************100%***********************]  1 of 1 completed\n",
      "[*********************100%***********************]  1 of 1 completed\n",
      "[*********************100%***********************]  1 of 1 completed\n",
      "[*********************100%***********************]  1 of 1 completed\n",
      "[*********************100%***********************]  1 of 1 completed\n",
      "[*********************100%***********************]  1 of 1 completed\n",
      "[*********************100%***********************]  1 of 1 completed\n",
      "[*********************100%***********************]  1 of 1 completed\n",
      "[*********************100%***********************]  1 of 1 completed\n",
      "[*********************100%***********************]  1 of 1 completed\n",
      "[*********************100%***********************]  1 of 1 completed\n",
      "[*********************100%***********************]  1 of 1 completed\n",
      "[*********************100%***********************]  1 of 1 completed\n",
      "[*********************100%***********************]  1 of 1 completed\n",
      "[*********************100%***********************]  1 of 1 completed\n",
      "[*********************100%***********************]  1 of 1 completed\n",
      "[*********************100%***********************]  1 of 1 completed\n",
      "[*********************100%***********************]  1 of 1 completed\n",
      "[*********************100%***********************]  1 of 1 completed\n",
      "[*********************100%***********************]  1 of 1 completed\n",
      "[*********************100%***********************]  1 of 1 completed\n",
      "[*********************100%***********************]  1 of 1 completed\n",
      "[*********************100%***********************]  1 of 1 completed\n",
      "[*********************100%***********************]  1 of 1 completed\n",
      "[*********************100%***********************]  1 of 1 completed\n",
      "[*********************100%***********************]  1 of 1 completed\n",
      "[*********************100%***********************]  1 of 1 completed\n",
      "[*********************100%***********************]  1 of 1 completed\n",
      "[*********************100%***********************]  1 of 1 completed\n",
      "[*********************100%***********************]  1 of 1 completed\n"
     ]
    },
    {
     "name": "stdout",
     "output_type": "stream",
     "text": [
      "Shape of DataFrame:  (120971, 8)\n"
     ]
    }
   ],
   "source": [
    "df_raw = YahooDownloader(start_date = TRAIN_START_DATE,\n",
    "                     end_date = TRADE_END_DATE,\n",
    "                     ticker_list = config_tickers.DOW_30_TICKER).fetch_data()"
   ]
  },
  {
   "cell_type": "code",
   "execution_count": 9,
   "metadata": {
    "colab": {
     "base_uri": "https://localhost:8080/",
     "height": 206
    },
    "id": "RD9cjHzt8X3A",
    "outputId": "051acda5-c8fd-440a-a5af-6be04cfdc018"
   },
   "outputs": [
    {
     "data": {
      "text/html": [
       "<div>\n",
       "<style scoped>\n",
       "    .dataframe tbody tr th:only-of-type {\n",
       "        vertical-align: middle;\n",
       "    }\n",
       "\n",
       "    .dataframe tbody tr th {\n",
       "        vertical-align: top;\n",
       "    }\n",
       "\n",
       "    .dataframe thead th {\n",
       "        text-align: right;\n",
       "    }\n",
       "</style>\n",
       "<table border=\"1\" class=\"dataframe\">\n",
       "  <thead>\n",
       "    <tr style=\"text-align: right;\">\n",
       "      <th>Price</th>\n",
       "      <th>date</th>\n",
       "      <th>close</th>\n",
       "      <th>high</th>\n",
       "      <th>low</th>\n",
       "      <th>open</th>\n",
       "      <th>volume</th>\n",
       "      <th>tic</th>\n",
       "      <th>day</th>\n",
       "    </tr>\n",
       "  </thead>\n",
       "  <tbody>\n",
       "    <tr>\n",
       "      <th>0</th>\n",
       "      <td>2009-01-02</td>\n",
       "      <td>2.727417</td>\n",
       "      <td>2.736133</td>\n",
       "      <td>2.559415</td>\n",
       "      <td>2.581053</td>\n",
       "      <td>746015200</td>\n",
       "      <td>AAPL</td>\n",
       "      <td>4</td>\n",
       "    </tr>\n",
       "    <tr>\n",
       "      <th>1</th>\n",
       "      <td>2009-01-02</td>\n",
       "      <td>41.151958</td>\n",
       "      <td>41.214743</td>\n",
       "      <td>40.286922</td>\n",
       "      <td>40.872914</td>\n",
       "      <td>6547900</td>\n",
       "      <td>AMGN</td>\n",
       "      <td>4</td>\n",
       "    </tr>\n",
       "    <tr>\n",
       "      <th>2</th>\n",
       "      <td>2009-01-02</td>\n",
       "      <td>14.929293</td>\n",
       "      <td>15.076037</td>\n",
       "      <td>14.211018</td>\n",
       "      <td>14.342316</td>\n",
       "      <td>10955700</td>\n",
       "      <td>AXP</td>\n",
       "      <td>4</td>\n",
       "    </tr>\n",
       "    <tr>\n",
       "      <th>3</th>\n",
       "      <td>2009-01-02</td>\n",
       "      <td>33.941090</td>\n",
       "      <td>34.173615</td>\n",
       "      <td>32.088393</td>\n",
       "      <td>32.103395</td>\n",
       "      <td>7010200</td>\n",
       "      <td>BA</td>\n",
       "      <td>4</td>\n",
       "    </tr>\n",
       "    <tr>\n",
       "      <th>4</th>\n",
       "      <td>2009-01-02</td>\n",
       "      <td>30.344683</td>\n",
       "      <td>30.389963</td>\n",
       "      <td>28.921568</td>\n",
       "      <td>29.050942</td>\n",
       "      <td>7117200</td>\n",
       "      <td>CAT</td>\n",
       "      <td>4</td>\n",
       "    </tr>\n",
       "  </tbody>\n",
       "</table>\n",
       "</div>"
      ],
      "text/plain": [
       "Price        date      close       high        low       open     volume  \\\n",
       "0      2009-01-02   2.727417   2.736133   2.559415   2.581053  746015200   \n",
       "1      2009-01-02  41.151958  41.214743  40.286922  40.872914    6547900   \n",
       "2      2009-01-02  14.929293  15.076037  14.211018  14.342316   10955700   \n",
       "3      2009-01-02  33.941090  34.173615  32.088393  32.103395    7010200   \n",
       "4      2009-01-02  30.344683  30.389963  28.921568  29.050942    7117200   \n",
       "\n",
       "Price   tic  day  \n",
       "0      AAPL    4  \n",
       "1      AMGN    4  \n",
       "2       AXP    4  \n",
       "3        BA    4  \n",
       "4       CAT    4  "
      ]
     },
     "execution_count": 9,
     "metadata": {},
     "output_type": "execute_result"
    }
   ],
   "source": [
    "df_raw.head()"
   ]
  },
  {
   "cell_type": "markdown",
   "metadata": {
    "id": "uqC6c40Zh1iH"
   },
   "source": [
    "# Part 3: Preprocess Data\n",
    "We need to check for missing data and do feature engineering to convert the data point into a state.\n",
    "* **Adding technical indicators**. In practical trading, various information needs to be taken into account, such as historical prices, current holding shares, technical indicators, etc. Here, we demonstrate two trend-following technical indicators: MACD and RSI.\n",
    "* **Adding turbulence index**. Risk-aversion reflects whether an investor prefers to protect the capital. It also influences one's trading strategy when facing different market volatility level. To control the risk in a worst-case scenario, such as financial crisis of 2007–2008, FinRL employs the turbulence index that measures extreme fluctuation of asset price."
   ]
  },
  {
   "cell_type": "markdown",
   "metadata": {},
   "source": [
    "# Part 3: 데이터 전처리\n",
    "우리는 결측값이 있는지 확인하고, 데이터를 상태(state)로 변환하기 위한 피처 엔지니어링을 수행해야 합니다.\n",
    "\n",
    "기술적 지표 추가: 실제 트레이딩에서는 과거 가격, 현재 보유 주식 수, 기술적 지표 등 다양한 정보를 고려해야 합니다.\n",
    "여기서는 추세 추종 계열의 기술적 지표 두 가지, MACD와 RSI를 예제로 사용합니다.\n",
    "\n",
    "변동성 지수(Turbulence Index) 추가:\n",
    "위험 회피 성향은 투자자가 자본을 보호하려는 경향을 반영하며, 이는 시장 변동성 수준에 따라 거래 전략에 영향을 줍니다.\n",
    "2007–2008년 금융 위기와 같은 최악의 시나리오에서 리스크를 통제하기 위해, FinRL은 자산 가격의 극단적 변동성을 측정하는 **변동성 지수(Turbulence Index)**를 활용합니다."
   ]
  },
  {
   "cell_type": "markdown",
   "metadata": {
    "id": "1lQxLyWpdbAd"
   },
   "source": [
    "Hear let's take **MACD** as an example. Moving average convergence/divergence (MACD) is one of the most commonly used indicator showing bull and bear market. Its calculation is based on EMA (Exponential Moving Average indicator, measuring trend direction over a period of time.)"
   ]
  },
  {
   "cell_type": "code",
   "execution_count": 10,
   "metadata": {
    "colab": {
     "base_uri": "https://localhost:8080/"
    },
    "id": "PmKP-1ii3RLS",
    "outputId": "d514cf1a-8609-402e-ad58-df5f9100ec85"
   },
   "outputs": [
    {
     "name": "stdout",
     "output_type": "stream",
     "text": [
      "Successfully added technical indicators\n"
     ]
    },
    {
     "name": "stderr",
     "output_type": "stream",
     "text": [
      "[*********************100%***********************]  1 of 1 completed\n"
     ]
    },
    {
     "name": "stdout",
     "output_type": "stream",
     "text": [
      "Shape of DataFrame:  (4117, 8)\n",
      "Successfully added vix\n",
      "Successfully added turbulence index\n"
     ]
    }
   ],
   "source": [
    "fe = FeatureEngineer(use_technical_indicator=True,\n",
    "                     tech_indicator_list = INDICATORS,\n",
    "                     use_vix=True,\n",
    "                     use_turbulence=True,\n",
    "                     user_defined_feature = False)\n",
    "\n",
    "processed = fe.preprocess_data(df_raw)"
   ]
  },
  {
   "cell_type": "code",
   "execution_count": 11,
   "metadata": {
    "id": "Kixon2tR3RLT"
   },
   "outputs": [],
   "source": [
    "list_ticker = processed[\"tic\"].unique().tolist()\n",
    "list_date = list(pd.date_range(processed['date'].min(),processed['date'].max()).astype(str))\n",
    "combination = list(itertools.product(list_date,list_ticker))\n",
    "\n",
    "processed_full = pd.DataFrame(combination,columns=[\"date\",\"tic\"]).merge(processed,on=[\"date\",\"tic\"],how=\"left\")\n",
    "processed_full = processed_full[processed_full['date'].isin(processed['date'])]\n",
    "processed_full = processed_full.sort_values(['date','tic'])\n",
    "\n",
    "processed_full = processed_full.fillna(0)"
   ]
  },
  {
   "cell_type": "code",
   "execution_count": 12,
   "metadata": {},
   "outputs": [],
   "source": [
    "import matplotlib.pyplot as plt"
   ]
  },
  {
   "cell_type": "code",
   "execution_count": 13,
   "metadata": {},
   "outputs": [
    {
     "data": {
      "text/html": [
       "<div>\n",
       "<style scoped>\n",
       "    .dataframe tbody tr th:only-of-type {\n",
       "        vertical-align: middle;\n",
       "    }\n",
       "\n",
       "    .dataframe tbody tr th {\n",
       "        vertical-align: top;\n",
       "    }\n",
       "\n",
       "    .dataframe thead th {\n",
       "        text-align: right;\n",
       "    }\n",
       "</style>\n",
       "<table border=\"1\" class=\"dataframe\">\n",
       "  <thead>\n",
       "    <tr style=\"text-align: right;\">\n",
       "      <th></th>\n",
       "      <th>date</th>\n",
       "      <th>tic</th>\n",
       "      <th>close</th>\n",
       "      <th>high</th>\n",
       "      <th>low</th>\n",
       "      <th>open</th>\n",
       "      <th>volume</th>\n",
       "      <th>day</th>\n",
       "      <th>macd</th>\n",
       "      <th>boll_ub</th>\n",
       "      <th>boll_lb</th>\n",
       "      <th>rsi_30</th>\n",
       "      <th>cci_30</th>\n",
       "      <th>dx_30</th>\n",
       "      <th>close_30_sma</th>\n",
       "      <th>close_60_sma</th>\n",
       "      <th>vix</th>\n",
       "      <th>turbulence</th>\n",
       "    </tr>\n",
       "  </thead>\n",
       "  <tbody>\n",
       "    <tr>\n",
       "      <th>0</th>\n",
       "      <td>2009-01-02</td>\n",
       "      <td>AAPL</td>\n",
       "      <td>2.727417</td>\n",
       "      <td>2.736133</td>\n",
       "      <td>2.559415</td>\n",
       "      <td>2.581053</td>\n",
       "      <td>746015200.0</td>\n",
       "      <td>4.0</td>\n",
       "      <td>0.000000</td>\n",
       "      <td>2.947758</td>\n",
       "      <td>2.622183</td>\n",
       "      <td>100.000000</td>\n",
       "      <td>66.666667</td>\n",
       "      <td>100.000000</td>\n",
       "      <td>2.727417</td>\n",
       "      <td>2.727417</td>\n",
       "      <td>39.189999</td>\n",
       "      <td>0.000000</td>\n",
       "    </tr>\n",
       "    <tr>\n",
       "      <th>1</th>\n",
       "      <td>2009-01-02</td>\n",
       "      <td>AMGN</td>\n",
       "      <td>41.151958</td>\n",
       "      <td>41.214743</td>\n",
       "      <td>40.286922</td>\n",
       "      <td>40.872914</td>\n",
       "      <td>6547900.0</td>\n",
       "      <td>4.0</td>\n",
       "      <td>0.000000</td>\n",
       "      <td>2.947758</td>\n",
       "      <td>2.622183</td>\n",
       "      <td>100.000000</td>\n",
       "      <td>66.666667</td>\n",
       "      <td>100.000000</td>\n",
       "      <td>41.151958</td>\n",
       "      <td>41.151958</td>\n",
       "      <td>39.189999</td>\n",
       "      <td>0.000000</td>\n",
       "    </tr>\n",
       "    <tr>\n",
       "      <th>2</th>\n",
       "      <td>2009-01-02</td>\n",
       "      <td>AXP</td>\n",
       "      <td>14.929293</td>\n",
       "      <td>15.076037</td>\n",
       "      <td>14.211018</td>\n",
       "      <td>14.342316</td>\n",
       "      <td>10955700.0</td>\n",
       "      <td>4.0</td>\n",
       "      <td>0.000000</td>\n",
       "      <td>2.947758</td>\n",
       "      <td>2.622183</td>\n",
       "      <td>100.000000</td>\n",
       "      <td>66.666667</td>\n",
       "      <td>100.000000</td>\n",
       "      <td>14.929293</td>\n",
       "      <td>14.929293</td>\n",
       "      <td>39.189999</td>\n",
       "      <td>0.000000</td>\n",
       "    </tr>\n",
       "    <tr>\n",
       "      <th>3</th>\n",
       "      <td>2009-01-02</td>\n",
       "      <td>BA</td>\n",
       "      <td>33.941090</td>\n",
       "      <td>34.173615</td>\n",
       "      <td>32.088393</td>\n",
       "      <td>32.103395</td>\n",
       "      <td>7010200.0</td>\n",
       "      <td>4.0</td>\n",
       "      <td>0.000000</td>\n",
       "      <td>2.947758</td>\n",
       "      <td>2.622183</td>\n",
       "      <td>100.000000</td>\n",
       "      <td>66.666667</td>\n",
       "      <td>100.000000</td>\n",
       "      <td>33.941090</td>\n",
       "      <td>33.941090</td>\n",
       "      <td>39.189999</td>\n",
       "      <td>0.000000</td>\n",
       "    </tr>\n",
       "    <tr>\n",
       "      <th>4</th>\n",
       "      <td>2009-01-02</td>\n",
       "      <td>CAT</td>\n",
       "      <td>30.344683</td>\n",
       "      <td>30.389963</td>\n",
       "      <td>28.921568</td>\n",
       "      <td>29.050942</td>\n",
       "      <td>7117200.0</td>\n",
       "      <td>4.0</td>\n",
       "      <td>0.000000</td>\n",
       "      <td>2.947758</td>\n",
       "      <td>2.622183</td>\n",
       "      <td>100.000000</td>\n",
       "      <td>66.666667</td>\n",
       "      <td>100.000000</td>\n",
       "      <td>30.344683</td>\n",
       "      <td>30.344683</td>\n",
       "      <td>39.189999</td>\n",
       "      <td>0.000000</td>\n",
       "    </tr>\n",
       "    <tr>\n",
       "      <th>...</th>\n",
       "      <td>...</td>\n",
       "      <td>...</td>\n",
       "      <td>...</td>\n",
       "      <td>...</td>\n",
       "      <td>...</td>\n",
       "      <td>...</td>\n",
       "      <td>...</td>\n",
       "      <td>...</td>\n",
       "      <td>...</td>\n",
       "      <td>...</td>\n",
       "      <td>...</td>\n",
       "      <td>...</td>\n",
       "      <td>...</td>\n",
       "      <td>...</td>\n",
       "      <td>...</td>\n",
       "      <td>...</td>\n",
       "      <td>...</td>\n",
       "      <td>...</td>\n",
       "    </tr>\n",
       "    <tr>\n",
       "      <th>173328</th>\n",
       "      <td>2025-05-14</td>\n",
       "      <td>UNH</td>\n",
       "      <td>308.010010</td>\n",
       "      <td>322.940002</td>\n",
       "      <td>307.109985</td>\n",
       "      <td>321.450012</td>\n",
       "      <td>40029600.0</td>\n",
       "      <td>2.0</td>\n",
       "      <td>-43.160651</td>\n",
       "      <td>517.574599</td>\n",
       "      <td>298.274400</td>\n",
       "      <td>25.754153</td>\n",
       "      <td>-130.122966</td>\n",
       "      <td>65.678971</td>\n",
       "      <td>458.932668</td>\n",
       "      <td>475.628676</td>\n",
       "      <td>18.620001</td>\n",
       "      <td>21.419092</td>\n",
       "    </tr>\n",
       "    <tr>\n",
       "      <th>173329</th>\n",
       "      <td>2025-05-14</td>\n",
       "      <td>V</td>\n",
       "      <td>356.459991</td>\n",
       "      <td>358.410004</td>\n",
       "      <td>355.209991</td>\n",
       "      <td>356.670013</td>\n",
       "      <td>6207600.0</td>\n",
       "      <td>2.0</td>\n",
       "      <td>5.492626</td>\n",
       "      <td>362.673423</td>\n",
       "      <td>321.380864</td>\n",
       "      <td>58.046238</td>\n",
       "      <td>130.023864</td>\n",
       "      <td>29.006548</td>\n",
       "      <td>337.199104</td>\n",
       "      <td>340.894076</td>\n",
       "      <td>18.620001</td>\n",
       "      <td>21.419092</td>\n",
       "    </tr>\n",
       "    <tr>\n",
       "      <th>173330</th>\n",
       "      <td>2025-05-14</td>\n",
       "      <td>VZ</td>\n",
       "      <td>42.349998</td>\n",
       "      <td>42.939999</td>\n",
       "      <td>42.250000</td>\n",
       "      <td>42.779999</td>\n",
       "      <td>20447500.0</td>\n",
       "      <td>2.0</td>\n",
       "      <td>-0.038602</td>\n",
       "      <td>44.491301</td>\n",
       "      <td>41.951700</td>\n",
       "      <td>48.630680</td>\n",
       "      <td>-65.617684</td>\n",
       "      <td>27.217860</td>\n",
       "      <td>43.225456</td>\n",
       "      <td>43.181627</td>\n",
       "      <td>18.620001</td>\n",
       "      <td>21.419092</td>\n",
       "    </tr>\n",
       "    <tr>\n",
       "      <th>173331</th>\n",
       "      <td>2025-05-14</td>\n",
       "      <td>WBA</td>\n",
       "      <td>11.130000</td>\n",
       "      <td>11.370000</td>\n",
       "      <td>11.130000</td>\n",
       "      <td>11.360000</td>\n",
       "      <td>13965000.0</td>\n",
       "      <td>2.0</td>\n",
       "      <td>0.083917</td>\n",
       "      <td>11.341615</td>\n",
       "      <td>10.726385</td>\n",
       "      <td>52.870720</td>\n",
       "      <td>118.592370</td>\n",
       "      <td>9.869636</td>\n",
       "      <td>10.963667</td>\n",
       "      <td>10.990000</td>\n",
       "      <td>18.620001</td>\n",
       "      <td>21.419092</td>\n",
       "    </tr>\n",
       "    <tr>\n",
       "      <th>173332</th>\n",
       "      <td>2025-05-14</td>\n",
       "      <td>WMT</td>\n",
       "      <td>96.830002</td>\n",
       "      <td>97.330002</td>\n",
       "      <td>95.830002</td>\n",
       "      <td>96.029999</td>\n",
       "      <td>25620100.0</td>\n",
       "      <td>2.0</td>\n",
       "      <td>1.656150</td>\n",
       "      <td>100.255401</td>\n",
       "      <td>91.629032</td>\n",
       "      <td>55.000242</td>\n",
       "      <td>58.933048</td>\n",
       "      <td>11.526587</td>\n",
       "      <td>93.474788</td>\n",
       "      <td>91.872141</td>\n",
       "      <td>18.620001</td>\n",
       "      <td>21.419092</td>\n",
       "    </tr>\n",
       "  </tbody>\n",
       "</table>\n",
       "<p>119393 rows × 18 columns</p>\n",
       "</div>"
      ],
      "text/plain": [
       "              date   tic       close        high         low        open  \\\n",
       "0       2009-01-02  AAPL    2.727417    2.736133    2.559415    2.581053   \n",
       "1       2009-01-02  AMGN   41.151958   41.214743   40.286922   40.872914   \n",
       "2       2009-01-02   AXP   14.929293   15.076037   14.211018   14.342316   \n",
       "3       2009-01-02    BA   33.941090   34.173615   32.088393   32.103395   \n",
       "4       2009-01-02   CAT   30.344683   30.389963   28.921568   29.050942   \n",
       "...            ...   ...         ...         ...         ...         ...   \n",
       "173328  2025-05-14   UNH  308.010010  322.940002  307.109985  321.450012   \n",
       "173329  2025-05-14     V  356.459991  358.410004  355.209991  356.670013   \n",
       "173330  2025-05-14    VZ   42.349998   42.939999   42.250000   42.779999   \n",
       "173331  2025-05-14   WBA   11.130000   11.370000   11.130000   11.360000   \n",
       "173332  2025-05-14   WMT   96.830002   97.330002   95.830002   96.029999   \n",
       "\n",
       "             volume  day       macd     boll_ub     boll_lb      rsi_30  \\\n",
       "0       746015200.0  4.0   0.000000    2.947758    2.622183  100.000000   \n",
       "1         6547900.0  4.0   0.000000    2.947758    2.622183  100.000000   \n",
       "2        10955700.0  4.0   0.000000    2.947758    2.622183  100.000000   \n",
       "3         7010200.0  4.0   0.000000    2.947758    2.622183  100.000000   \n",
       "4         7117200.0  4.0   0.000000    2.947758    2.622183  100.000000   \n",
       "...             ...  ...        ...         ...         ...         ...   \n",
       "173328   40029600.0  2.0 -43.160651  517.574599  298.274400   25.754153   \n",
       "173329    6207600.0  2.0   5.492626  362.673423  321.380864   58.046238   \n",
       "173330   20447500.0  2.0  -0.038602   44.491301   41.951700   48.630680   \n",
       "173331   13965000.0  2.0   0.083917   11.341615   10.726385   52.870720   \n",
       "173332   25620100.0  2.0   1.656150  100.255401   91.629032   55.000242   \n",
       "\n",
       "            cci_30       dx_30  close_30_sma  close_60_sma        vix  \\\n",
       "0        66.666667  100.000000      2.727417      2.727417  39.189999   \n",
       "1        66.666667  100.000000     41.151958     41.151958  39.189999   \n",
       "2        66.666667  100.000000     14.929293     14.929293  39.189999   \n",
       "3        66.666667  100.000000     33.941090     33.941090  39.189999   \n",
       "4        66.666667  100.000000     30.344683     30.344683  39.189999   \n",
       "...            ...         ...           ...           ...        ...   \n",
       "173328 -130.122966   65.678971    458.932668    475.628676  18.620001   \n",
       "173329  130.023864   29.006548    337.199104    340.894076  18.620001   \n",
       "173330  -65.617684   27.217860     43.225456     43.181627  18.620001   \n",
       "173331  118.592370    9.869636     10.963667     10.990000  18.620001   \n",
       "173332   58.933048   11.526587     93.474788     91.872141  18.620001   \n",
       "\n",
       "        turbulence  \n",
       "0         0.000000  \n",
       "1         0.000000  \n",
       "2         0.000000  \n",
       "3         0.000000  \n",
       "4         0.000000  \n",
       "...            ...  \n",
       "173328   21.419092  \n",
       "173329   21.419092  \n",
       "173330   21.419092  \n",
       "173331   21.419092  \n",
       "173332   21.419092  \n",
       "\n",
       "[119393 rows x 18 columns]"
      ]
     },
     "execution_count": 13,
     "metadata": {},
     "output_type": "execute_result"
    }
   ],
   "source": [
    "processed_full"
   ]
  },
  {
   "cell_type": "code",
   "execution_count": 14,
   "metadata": {
    "colab": {
     "base_uri": "https://localhost:8080/",
     "height": 357
    },
    "id": "HwKJNWJSabNK",
    "outputId": "16c8080e-91b0-4e8d-9a09-44939ac69801"
   },
   "outputs": [
    {
     "data": {
      "text/plain": [
       "27     100.000000\n",
       "114    100.000000\n",
       "143     90.558993\n",
       "172     92.388800\n",
       "201     82.560288\n",
       "230     58.986851\n",
       "317     53.284206\n",
       "346     56.258890\n",
       "375     57.413840\n",
       "404     67.155392\n",
       "Name: rsi_30, dtype: float64"
      ]
     },
     "execution_count": 14,
     "metadata": {},
     "output_type": "execute_result"
    }
   ],
   "source": [
    "processed_full[processed_full.tic=='WBA']['rsi_30'].head(10)\n"
   ]
  },
  {
   "cell_type": "markdown",
   "metadata": {
    "id": "ydLNxwdPIJhW"
   },
   "source": [
    "# Part 4: Save the Data"
   ]
  },
  {
   "cell_type": "markdown",
   "metadata": {
    "id": "VbMDnfukILc_"
   },
   "source": [
    "### Split the data for training and trading"
   ]
  },
  {
   "cell_type": "code",
   "execution_count": 15,
   "metadata": {
    "colab": {
     "base_uri": "https://localhost:8080/"
    },
    "id": "iEiXDdUhZP7R",
    "outputId": "554b1c09-6d6f-48fb-c724-351b40a2ddaf"
   },
   "outputs": [
    {
     "name": "stdout",
     "output_type": "stream",
     "text": [
      "80272\n",
      "39121\n"
     ]
    }
   ],
   "source": [
    "train = data_split(processed_full, TRAIN_START_DATE,TRAIN_END_DATE)\n",
    "trade = data_split(processed_full, TRADE_START_DATE,TRADE_END_DATE)\n",
    "print(len(train))\n",
    "print(len(trade))"
   ]
  },
  {
   "cell_type": "markdown",
   "metadata": {
    "id": "DflbzEV8IRhF"
   },
   "source": [
    "### Save data to csv file"
   ]
  },
  {
   "cell_type": "markdown",
   "metadata": {
    "id": "Tud3IZDzIUpd"
   },
   "source": [
    "For Colab users, you can open the virtual directory in colab and manually download the files.\n",
    "\n",
    "For users running on your local environment, the csv files should be at the same directory of this notebook."
   ]
  },
  {
   "cell_type": "code",
   "execution_count": 16,
   "metadata": {
    "id": "j2c12CpfHEjE"
   },
   "outputs": [],
   "source": [
    "train.to_csv('train_data.csv')\n",
    "trade.to_csv('trade_data.csv')"
   ]
  }
 ],
 "metadata": {
  "colab": {
   "provenance": []
  },
  "kernelspec": {
   "display_name": "Python 3",
   "name": "python3"
  },
  "language_info": {
   "codemirror_mode": {
    "name": "ipython",
    "version": 3
   },
   "file_extension": ".py",
   "mimetype": "text/x-python",
   "name": "python",
   "nbconvert_exporter": "python",
   "pygments_lexer": "ipython3",
   "version": "3.8.20"
  }
 },
 "nbformat": 4,
 "nbformat_minor": 0
}
